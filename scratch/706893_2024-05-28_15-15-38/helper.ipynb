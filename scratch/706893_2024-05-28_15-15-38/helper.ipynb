{
 "cells": [
  {
   "cell_type": "markdown",
   "metadata": {},
   "source": [
    "### Get first and last trial range (based on trained video) to plot\n"
   ]
  },
  {
   "cell_type": "code",
   "execution_count": null,
   "metadata": {
    "vscode": {
     "languageId": "plaintext"
    }
   },
   "outputs": [],
   "source": [
    "import pandas as pd\n",
    "\n",
    "# Define file paths\n",
    "arhmm_latents_path = '/local1/video-analysis/scratch/706893_2024-05-28_15-15-38/results/xinxin/coupled-baiting_' + bodypart + '/706893/2024-05-28/dfs/arhmm_latents_df_.csv'\n",
    "df_original_path = '/local1/video-analysis/scratch/706893_2024-05-28_15-15-38/results/xinxin/coupled-baiting_' + bodypart + '/706893/2024-05-28/dfs/df_original.csv'\n",
    "\n",
    "# Load the CSV files\n",
    "arhmm_latents_df = pd.read_csv(arhmm_latents_path)\n",
    "df_original = pd.read_csv(df_original_path)\n",
    "\n",
    "# Get the first Harp_Timestamp from arhmm_latents_df\n",
    "first_harp_timestamp = arhmm_latents_df[\"Harp_Timestamp\"].iloc[0]\n",
    "\n",
    "# Find the closest next trial timestamp in df_original\n",
    "first_analyzed_trial_idx = (df_original[\"start_time\"] > first_harp_timestamp).idxmax()  # Get index of the first trial after first_harp_timestamp in analyzed video\n",
    "first_analyzed_trial_event_timestamp = df_original.loc[first_analyzed_trial_idx, \"start_time\"]\n",
    "first_analyzed_trial_number = df_original.loc[first_analyzed_trial_idx, \"Trial\"]\n",
    "\n",
    "# Print results\n",
    "print(f\"First Harp_Timestamp from arhmm_latents_df: {first_harp_timestamp}\")\n",
    "print(f\"Closest next trial Harp_Timestamp (start_time) from df_original: {first_analyzed_trial_event_timestamp} (Trial {first_analyzed_trial_number})\")\n",
    "print('')\n",
    "\n",
    "# Get the last non-NaN Harp_Timestamp from arhmm_latents_df\n",
    "last_harp_timestamp = arhmm_latents_df[\"Harp_Timestamp\"].dropna().iloc[-1]\n",
    "\n",
    "# # Find the closest prior trial timestamp in df_original\n",
    "# Drop NaNs from the Harp_Timestamp column\n",
    "df_original_clean = df_original.dropna(subset=[\"stop_time\"])\n",
    "\n",
    "# Find the index of the last trial before last_harp_timestamp\n",
    "last_analyzed_trial_idx = df_original_clean[df_original_clean[\"stop_time\"] < last_harp_timestamp].index[-1]\n",
    "last_analyzed_trial_event_timestamp = df_original.loc[last_analyzed_trial_idx, \"stop_time\"]\n",
    "\n",
    "# Get the trial number of the closest prior trial\n",
    "last_analyzed_trial_number = df_original_clean.loc[last_analyzed_trial_idx, \"Trial\"]\n",
    "\n",
    "\n",
    "# Print results\n",
    "print(f\"Last Harp_Timestamp from arhmm_latents_df: {last_harp_timestamp}\")\n",
    "print(f\"Closest prior trial Harp_Timestamp from df_events: {last_analyzed_trial_event_timestamp} (Trial {last_analyzed_trial_number})\")\n"
   ]
  },
  {
   "cell_type": "code",
   "execution_count": null,
   "metadata": {
    "vscode": {
     "languageId": "plaintext"
    }
   },
   "outputs": [],
   "source": [
    "First Harp_Timestamp from arhmm_latents_df: 6574786.711488\n",
    "Closest next trial Harp_Timestamp (start_time) from df_original: 6574787.602496 (Trial 9)\n",
    "\n",
    "Last Harp_Timestamp from arhmm_latents_df: 6578185.45952\n",
    "Closest prior trial Harp_Timestamp from df_events: 6578181.317504 (Trial 273)"
   ]
  },
  {
   "cell_type": "markdown",
   "metadata": {},
   "source": [
    "### Get num_initial_frames_to_exclude and num_late_frames_to_exclude "
   ]
  },
  {
   "cell_type": "code",
   "execution_count": null,
   "metadata": {
    "vscode": {
     "languageId": "plaintext"
    }
   },
   "outputs": [],
   "source": [
    "import numpy as np\n",
    "import pandas as pd\n",
    "\n",
    "# Example usage\n",
    "hdf5_path = '/local1/video-analysis/scratch/706893_2024-05-28_15-15-38/data/xinxin/coupled-baiting_' + bodypart + '/706893/2024-05-28/data.hdf5'\n",
    "set_harp_ts = True  \n",
    "\n",
    "ae_latent_path = '/local1/video-analysis/scratch/706893_2024-05-28_15-15-38/results/xinxin/coupled-baiting_' + bodypart + '/706893/2024-05-28/dfs/ae_latents_df.csv'\n",
    "ae_latents_df = pd.read_csv(ae_latent_path)\n",
    "\n",
    "# Initialize exclusion counters\n",
    "total_num_initial_frames_to_exclude, total_num_late_frames_to_exclude = 0, 0\n",
    "\n",
    "if set_harp_ts:\n",
    "    # Exclude frames from the beginning of the list\n",
    "    selected_segments = np.arange(ae_latents_df['seg_index'].iloc[0])  \n",
    "\n",
    "    n_frames_dict, total_num_initial_frames_to_exclude, total_num_frames_in_segments = get_frame_counts(hdf5_path, selected_segments)\n",
    "\n",
    "    # Print results\n",
    "    print(\"Total number of segments in the HDF5 file:\", total_num_frames_in_segments)\n",
    "    print(\"Total number of excluded frames for EARLY segments:\", total_num_initial_frames_to_exclude)\n",
    "    print(\"Frame counts per segments:\", n_frames_dict)\n",
    "\n",
    "\n",
    "    # Exclude frames from the end of the list\n",
    "    selected_segments = np.arange(ae_latents_df['seg_index'].iloc[-1]+1, total_num_frames_in_segments)  \n",
    "\n",
    "    n_frames_dict_, total_num_late_frames_to_exclude, _ = get_frame_counts(hdf5_path, selected_segments)\n",
    "\n",
    "    # Print results\n",
    "    print('')\n",
    "    print(\"Total number of excluded frames for LATE segments:\", total_num_late_frames_to_exclude)\n",
    "    print(\"Frame counts per segments:\", n_frames_dict_)\n"
   ]
  },
  {
   "cell_type": "code",
   "execution_count": null,
   "metadata": {
    "vscode": {
     "languageId": "plaintext"
    }
   },
   "outputs": [],
   "source": [
    "Total number of segments in the HDF5 file: 178\n",
    "Total number of excluded frames for EARLY segments: 4071\n",
    "Frame counts per segments: {'trial_0000': 1000, 'trial_0001': 1071, 'trial_0002': 1000, 'trial_0003': 1000}\n",
    "\n",
    "Total number of excluded frames for LATE segments: 3667\n",
    "Frame counts per segments: {'trial_0174': 994, 'trial_0175': 953, 'trial_0176': 1000, 'trial_0177': 720}\n"
   ]
  },
  {
   "cell_type": "markdown",
   "metadata": {},
   "source": [
    "### Get the number of frames in the selected_segments"
   ]
  },
  {
   "cell_type": "code",
   "execution_count": null,
   "metadata": {
    "vscode": {
     "languageId": "plaintext"
    }
   },
   "outputs": [],
   "source": [
    "import h5py\n",
    "\n",
    "def get_frame_counts(hdf5_path, selected_trials=None):\n",
    "    \"\"\"\n",
    "    Reads an HDF5 file and extracts the number of frames for each selected trial.\n",
    "\n",
    "    Parameters:\n",
    "        hdf5_path (str): Path to the HDF5 file.\n",
    "        selected_trials (list, optional): List of trial indices to include. If None, all trials will be used.\n",
    "\n",
    "    Returns:\n",
    "        dict: A dictionary with trial keys and their corresponding frame counts.\n",
    "        int: The total number of frames across the selected trials.\n",
    "        int: The total number of trials in the HDF5 file.\n",
    "    \"\"\"\n",
    "    n_frames_dict = {}\n",
    "\n",
    "    with h5py.File(hdf5_path, 'r') as f:\n",
    "        images_group = f['images']\n",
    "        total_num_trials = len(images_group.keys())  # Get the total number of trials\n",
    "\n",
    "        # If no specific trials are selected, use all available trials\n",
    "        if selected_trials is None:\n",
    "            selected_trials = list(range(total_num_trials))\n",
    "\n",
    "        # Loop over the selected trial indices\n",
    "        for idx in selected_trials:\n",
    "            trial_key = f\"trial_{idx:04d}\"\n",
    "            if trial_key in images_group:\n",
    "                n_frames = images_group[trial_key].shape[0]  # Extract number of frames\n",
    "                n_frames_dict[trial_key] = n_frames\n",
    "\n",
    "    # Compute total frames across selected trials\n",
    "    total_num_frames = sum(n_frames_dict.values())\n",
    "\n",
    "    return n_frames_dict, total_num_frames, total_num_trials\n",
    "\n"
   ]
  }
 ],
 "metadata": {
  "language_info": {
   "name": "python"
  }
 },
 "nbformat": 4,
 "nbformat_minor": 2
}
